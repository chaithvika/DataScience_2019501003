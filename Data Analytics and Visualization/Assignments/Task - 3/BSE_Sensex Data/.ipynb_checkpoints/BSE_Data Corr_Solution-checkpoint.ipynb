{
 "cells": [
  {
   "cell_type": "code",
   "execution_count": 2,
   "metadata": {},
   "outputs": [],
   "source": [
    "import pandas as pd\n",
    "import os\n",
    "import numpy as np\n",
    "from itertools import combinations\n",
    "from matplotlib import pyplot as plt"
   ]
  },
  {
   "cell_type": "markdown",
   "metadata": {},
   "source": [
    "# Identify the top 10 gainers (%) across groups over the last 5 years period."
   ]
  },
  {
   "cell_type": "code",
   "execution_count": null,
   "metadata": {},
   "outputs": [],
   "source": [
    "data = {}\n",
    "for root,dirs,files in os.walk(os.curdir):\n",
    "    for file in files:\n",
    "        if file.endswith('.csv') and file.startswith(\"5\"):\n",
    "            name = os.path.splitext(file)[0]\n",
    "            df = pd.read_csv(file, thousands = \",\")\n",
    "            df[\"Date\"] = pd.to_datetime(df[\"Date\"])\n",
    "            df.sort_values(by = \"Date\", inplace = True)\n",
    "            try :\n",
    "                start = df[\"Close\"].iloc[0]\n",
    "            except Exception as e:\n",
    "                start = df[\"Close Price\"].iloc[0]\n",
    "            \n",
    "            try :\n",
    "                end = df[\"Close\"].iloc[-1]\n",
    "            except Exception as e:\n",
    "                end = df[\"Close Price\"].iloc[-1]\n",
    "            gain = (end/start) - 1\n",
    "            data[name] = gain"
   ]
  },
  {
   "cell_type": "code",
   "execution_count": null,
   "metadata": {},
   "outputs": [],
   "source": [
    "df = pd.DataFrame(data.items(), columns = [\"security\", \"gain\"])\n",
    "df.sort_values(by = \"gain\", inplace = True, ascending = False)\n",
    "df.head(10)"
   ]
  },
  {
   "cell_type": "markdown",
   "metadata": {},
   "source": [
    "# Identify the top 10 gainers (%) across groups over the last 3 years period.¶"
   ]
  },
  {
   "cell_type": "code",
   "execution_count": null,
   "metadata": {},
   "outputs": [],
   "source": [
    "data = {}\n",
    "for root,dirs,files in os.walk(os.curdir):\n",
    "    for file in files:\n",
    "        if file.endswith('.csv') and file.startswith(\"5\"):\n",
    "            name = os.path.splitext(file)[0]\n",
    "            df = pd.read_csv(file, thousands = \",\")\n",
    "            df = df[0 : 750]\n",
    "            df[\"Date\"] = pd.to_datetime(df[\"Date\"])\n",
    "            df.sort_values(by = \"Date\", inplace = True)\n",
    "            \n",
    "            try :\n",
    "                start = df[\"Close\"].iloc[0]\n",
    "            except Exception as e:\n",
    "                start = df[\"Close Price\"].iloc[0]\n",
    "            \n",
    "            try :\n",
    "                end = df[\"Close\"].iloc[-1]\n",
    "            except Exception as e:\n",
    "                end = df[\"Close Price\"].iloc[-1]\n",
    "            gain = (end/start) - 1\n",
    "            data[name] = gain"
   ]
  },
  {
   "cell_type": "code",
   "execution_count": null,
   "metadata": {},
   "outputs": [],
   "source": [
    "df = pd.DataFrame(data.items(), columns = [\"security\", \"gain\"])\n",
    "df.sort_values(by = \"gain\", inplace = True, ascending = False)\n",
    "df.head(10)"
   ]
  },
  {
   "cell_type": "markdown",
   "metadata": {},
   "source": [
    "# Identify the top 10 gainers (%) across groups over the last 2 years period."
   ]
  },
  {
   "cell_type": "code",
   "execution_count": null,
   "metadata": {},
   "outputs": [],
   "source": [
    "data = {}\n",
    "for root,dirs,files in os.walk(os.curdir):\n",
    "    for file in files:\n",
    "        if file.endswith('.csv') and file.startswith(\"5\"):\n",
    "            name = os.path.splitext(file)[0]\n",
    "            df = pd.read_csv(file, thousands = \",\")\n",
    "            df = df[0 : 500]\n",
    "            df[\"Date\"] = pd.to_datetime(df[\"Date\"])\n",
    "            df.sort_values(by = \"Date\", inplace = True)\n",
    "            \n",
    "            try :\n",
    "                start = df[\"Close\"].iloc[0]\n",
    "            except Exception as e:\n",
    "                start = df[\"Close Price\"].iloc[0]\n",
    "            \n",
    "            try :\n",
    "                end = df[\"Close\"].iloc[-1]\n",
    "            except Exception as e:\n",
    "                end = df[\"Close Price\"].iloc[-1]\n",
    "            gain = (end/start) - 1\n",
    "            data[name] = gain"
   ]
  },
  {
   "cell_type": "code",
   "execution_count": null,
   "metadata": {},
   "outputs": [],
   "source": [
    "df = pd.DataFrame(data.items(), columns = [\"security\", \"gain\"])\n",
    "df.sort_values(by = \"gain\",inplace = True, ascending = False)\n",
    "df.head(10)"
   ]
  },
  {
   "cell_type": "markdown",
   "metadata": {},
   "source": [
    "# Identify the top 10 gainers (%) across groups over the last 1 year period."
   ]
  },
  {
   "cell_type": "code",
   "execution_count": null,
   "metadata": {},
   "outputs": [],
   "source": [
    "data = {}\n",
    "for root,dirs,files in os.walk(os.curdir):\n",
    "    for file in files:\n",
    "        if file.endswith('.csv') and file.startswith(\"5\"):\n",
    "            name = os.path.splitext(file)[0]\n",
    "            df = pd.read_csv(file, thousands = \",\")\n",
    "            df = df[0 : 250]\n",
    "            df[\"Date\"] = pd.to_datetime(df[\"Date\"])\n",
    "            df.sort_values(by = \"Date\", inplace = True)\n",
    "            \n",
    "            try :\n",
    "                start = df[\"Close\"].iloc[0]\n",
    "            except Exception as e:\n",
    "                start = df[\"Close Price\"].iloc[0]\n",
    "            \n",
    "            try :\n",
    "                end = df[\"Close\"].iloc[-1]\n",
    "            except Exception as e:\n",
    "                end = df[\"Close Price\"].iloc[-1]\n",
    "            gain = (end/start) - 1\n",
    "            data[name] = gain"
   ]
  },
  {
   "cell_type": "code",
   "execution_count": null,
   "metadata": {},
   "outputs": [],
   "source": [
    "df = pd.DataFrame(data.items(), columns = [\"security\", \"gain\"])\n",
    "df.sort_values(by = \"gain\", inplace = True, ascending = False)\n",
    "df.head(10)"
   ]
  },
  {
   "cell_type": "markdown",
   "metadata": {},
   "source": [
    "# Identify the top 10 gainers (%) across groups over the last 6 months period."
   ]
  },
  {
   "cell_type": "code",
   "execution_count": null,
   "metadata": {},
   "outputs": [],
   "source": [
    "data = {}\n",
    "for root,dirs,files in os.walk(os.curdir):\n",
    "    for file in files:\n",
    "        if file.endswith('.csv') and file.startswith(\"5\"):\n",
    "            name = os.path.splitext(file)[0]\n",
    "            df = pd.read_csv(file, thousands = \",\")\n",
    "            df = df[0 : 130]\n",
    "            df[\"Date\"] = pd.to_datetime(df[\"Date\"])\n",
    "            df.sort_values(by = \"Date\", inplace = True)\n",
    "            \n",
    "            try :\n",
    "                start = df[\"Close\"].iloc[0]\n",
    "            except Exception as e:\n",
    "                start = df[\"Close Price\"].iloc[0]\n",
    "            \n",
    "            try :\n",
    "                end = df[\"Close\"].iloc[-1]\n",
    "            except Exception as e:\n",
    "                end = df[\"Close Price\"].iloc[-1]\n",
    "            gain = (end/start) - 1\n",
    "            data[name] = gain"
   ]
  },
  {
   "cell_type": "code",
   "execution_count": null,
   "metadata": {},
   "outputs": [],
   "source": [
    "df = pd.DataFrame(data.items(), columns = [\"security\", \"gain\"])\n",
    "df.sort_values(by = \"gain\", inplace = True, ascending = False)\n",
    "df.head(10)"
   ]
  },
  {
   "cell_type": "markdown",
   "metadata": {},
   "source": [
    "# Identify the top 10 gainers (%) across groups over the last 3 months period."
   ]
  },
  {
   "cell_type": "code",
   "execution_count": null,
   "metadata": {},
   "outputs": [],
   "source": [
    "data = {}\n",
    "for root,dirs,files in os.walk(os.curdir):\n",
    "    for file in files:\n",
    "        if file.endswith('.csv') and file.startswith(\"5\"):\n",
    "            name = os.path.splitext(file)[0]\n",
    "            df = pd.read_csv(file, thousands = \",\")\n",
    "            df = df[0 : 75]\n",
    "            df[\"Date\"] = pd.to_datetime(df[\"Date\"])\n",
    "            df.sort_values(by = \"Date\", inplace = True)\n",
    "            \n",
    "            try :\n",
    "                start = df[\"Close\"].iloc[0]\n",
    "            except Exception as e:\n",
    "                start = df[\"Close Price\"].iloc[0]\n",
    "            \n",
    "            try :\n",
    "                end = df[\"Close\"].iloc[-1]\n",
    "            except Exception as e:\n",
    "                end = df[\"Close Price\"].iloc[-1]\n",
    "            gain = (end/start) - 1\n",
    "            data[name] = gain"
   ]
  },
  {
   "cell_type": "code",
   "execution_count": null,
   "metadata": {},
   "outputs": [],
   "source": [
    "df = pd.DataFrame(data.items(), columns = [\"security\", \"gain\"])\n",
    "df.sort_values(by = \"gain\", inplace = True, ascending = False)\n",
    "df.head(10)"
   ]
  },
  {
   "cell_type": "markdown",
   "metadata": {},
   "source": [
    "# Identify the top 10 gainers (%) across groups over the last 1 month period."
   ]
  },
  {
   "cell_type": "code",
   "execution_count": null,
   "metadata": {},
   "outputs": [],
   "source": [
    "data = {}\n",
    "for root,dirs,files in os.walk(os.curdir):\n",
    "    for file in files:\n",
    "        if file.endswith('.csv') and file.startswith(\"5\"):\n",
    "            name = os.path.splitext(file)[0]\n",
    "            df = pd.read_csv(file, thousands = \",\")\n",
    "            df = df[0 : 30]\n",
    "            df[\"Date\"] = pd.to_datetime(df[\"Date\"])\n",
    "            df.sort_values(by = \"Date\", inplace = True)\n",
    "            \n",
    "            try :\n",
    "                start = df[\"Close\"].iloc[0]\n",
    "            except Exception as e:\n",
    "                start = df[\"Close Price\"].iloc[0]\n",
    "            \n",
    "            try :\n",
    "                end = df[\"Close\"].iloc[-1]\n",
    "            except Exception as e:\n",
    "                end = df[\"Close Price\"].iloc[-1]\n",
    "            gain = (end/start) - 1\n",
    "            data[name] = gain"
   ]
  },
  {
   "cell_type": "code",
   "execution_count": null,
   "metadata": {},
   "outputs": [],
   "source": [
    "df = pd.DataFrame(data.items(), columns = [\"security\", \"gain\"])\n",
    "df.sort_values(by = \"gain\", inplace = True, ascending = False)\n",
    "df.head(10)"
   ]
  },
  {
   "cell_type": "markdown",
   "metadata": {},
   "source": [
    "# Identify the stock most correlated with ICICI Bank's stockprice"
   ]
  },
  {
   "cell_type": "code",
   "execution_count": null,
   "metadata": {},
   "outputs": [],
   "source": [
    "icici_bank = \"532174\"\n",
    "df_icici_bank = pd.read_csv(icici_bank + \".csv\",thousands = \",\")\n",
    "\n",
    "stock_corr = {}\n",
    "for root,dirs,files in os.walk(os.curdir):\n",
    "    for file in files:\n",
    "        if file.endswith('.csv') and file.startswith(\"5\"):\n",
    "            name = os.path.splitext(file)[0]\n",
    "            if name == icici_bank:\n",
    "                continue\n",
    "            df = pd.read_csv(file, thousands = \",\")\n",
    "            cor = df_icici_bank[\"Total Turnover (Rs.)\"].corr(df[\"Total Turnover (Rs.)\"])\n",
    "            stock_corr[name] = cor\n",
    "\n",
    "icici_corr = pd.DataFrame(stock_corr.items(),columns = [\"security\", \"correlation\"])\n",
    "icici_corr = icici_corr.sort_values(by = \"correlation\", ascending = False)\n",
    "icici_corr.head()"
   ]
  },
  {
   "cell_type": "markdown",
   "metadata": {},
   "source": [
    "# Draw a correlation matrix of any 30 stocks on the Sensex. This is a matrix with both axes holding the stock names. The colour of each cell is the correlation between that pair of stocks: blue for -1 and green for 1."
   ]
  },
  {
   "cell_type": "code",
   "execution_count": null,
   "metadata": {},
   "outputs": [],
   "source": [
    "dfs = {}\n",
    "stock_names = set()\n",
    "def read_dfs():\n",
    "    for root,dirs,files in os.walk(os.curdir):\n",
    "        for file in files:\n",
    "            if len(stock_names) == 30:\n",
    "                return\n",
    "            if file.endswith('.csv') and file.startswith(\"5\"):\n",
    "                name = os.path.splitext(file)[0]\n",
    "                df = pd.read_csv(file, thousands = \",\")\n",
    "                dfs[name] = df\n",
    "                stock_names.add(name)\n",
    "read_dfs()"
   ]
  },
  {
   "cell_type": "code",
   "execution_count": null,
   "metadata": {},
   "outputs": [],
   "source": [
    "samp = pd.DataFrame(columns=stock_names,index=stock_names)\n",
    "for n1,n2 in combinations(stock_names,2):\n",
    "    df1 = dfs[n1]\n",
    "    df2 = dfs[n2]\n",
    "    c1 = df1[\"Total Turnover (Rs.)\"].corr(df2[\"Total Turnover (Rs.)\"])\n",
    "    c2 = df2[\"Total Turnover (Rs.)\"].corr(df1[\"Total Turnover (Rs.)\"])\n",
    "    samp.loc[n1,n2] = c1\n",
    "    samp.loc[n2,n1] = c2\n",
    "    samp.loc[n1,n1] = 1\n",
    "    samp.loc[n2,n2] = 1\n",
    "samp = samp.astype({name:\"float\" for name in stock_names})"
   ]
  },
  {
   "cell_type": "code",
   "execution_count": null,
   "metadata": {},
   "outputs": [],
   "source": [
    "samp.style.background_gradient(cmap=\"brg\")"
   ]
  }
 ],
 "metadata": {
  "kernelspec": {
   "display_name": "Python 3",
   "language": "python",
   "name": "python3"
  },
  "language_info": {
   "codemirror_mode": {
    "name": "ipython",
    "version": 3
   },
   "file_extension": ".py",
   "mimetype": "text/x-python",
   "name": "python",
   "nbconvert_exporter": "python",
   "pygments_lexer": "ipython3",
   "version": "3.8.8"
  }
 },
 "nbformat": 4,
 "nbformat_minor": 4
}
