{
 "cells": [
  {
   "cell_type": "code",
   "execution_count": 49,
   "metadata": {},
   "outputs": [],
   "source": [
    "import requests\n",
    "import urllib.request\n",
    "import re, csv, lxml, gzip, io\n",
    "import pandas as pd\n",
    "from bs4 import BeautifulSoup"
   ]
  },
  {
   "cell_type": "code",
   "execution_count": 50,
   "metadata": {},
   "outputs": [],
   "source": [
    "source_url = \"https://www.imdb.com/interfaces/\"\n",
    "reqs = requests.get(source_url)\n",
    "tsoup = BeautifulSoup(reqs.text, 'html.parser')\n",
    " \n",
    "urls = []\n",
    "for url in tsoup.findAll('a'):\n",
    "    urls.append(url.get('href'))"
   ]
  },
  {
   "cell_type": "code",
   "execution_count": 47,
   "metadata": {
    "scrolled": true
   },
   "outputs": [
    {
     "name": "stdout",
     "output_type": "stream",
     "text": [
      "['/?ref_=nv_home', 'https://www.imdb.com/calendar/?ref_=nv_mv_cal', 'https://www.imdb.com/list/ls016522954/?ref_=nv_tvv_dvd', '/chart/top/?ref_=nv_mv_250', '/chart/moviemeter/?ref_=nv_mv_mpm', 'https://www.imdb.com/feature/genre/?ref_=nv_ch_gr', '/chart/boxoffice/?ref_=nv_ch_cht', 'https://m.imdb.com/showtimes/movie/?ref_=nv_mv_sh', 'https://www.imdb.com/showtimes/?ref_=nv_mv_sh', 'https://www.imdb.com/movies-in-theaters/?ref_=nv_mv_inth', 'https://m.imdb.com/coming-soon/?ref_=nv_mv_cs', 'https://www.imdb.com/coming-soon/?ref_=nv_mv_cs', '/news/movie/?ref_=nv_nw_mv', '/india/toprated/?ref_=nv_mv_in', 'https://www.imdb.com/whats-on-tv/?ref_=nv_tv_ontv', 'https://m.imdb.com/whats-on-tv/?ref_=nv_tv_ontv', '/chart/toptv/?ref_=nv_tvv_250', '/chart/tvmeter/?ref_=nv_tvv_mptv', 'https://www.imdb.com/feature/genre/?ref_=nv_tv_gr', '/news/tv/?ref_=nv_nw_tv', '/india/tv?ref_=nv_tv_in', '/what-to-watch/?ref_=nv_watch', '/trailers/?ref_=nv_mv_tr', '/originals/?ref_=nv_sf_ori', '/imdbpicks/?ref_=nv_pi', '/podcasts/?ref_=nv_pod', '/oscars/?ref_=nv_ev_acd', 'https://m.imdb.com/feature/bestpicture/?ref_=nv_ch_osc', 'https://www.imdb.com/search/title/?count=100&groups=oscar_best_picture_winners&sort=year%2Cdesc&ref_=nv_ch_osc', '/golden-globes/?ref_=nv_ev_gg', '/emmys/?ref_=nv_ev_rte', '/imdbpicks/apahm/?ref_=nv_ev_apa', '/starmeterawards/?ref_=nv_ev_sma', '/comic-con/?ref_=nv_ev_comic', '/nycc/?ref_=nv_ev_nycc', '/sundance/?ref_=nv_ev_sun', '/toronto/?ref_=nv_ev_tor', '/awards-central/?ref_=nv_ev_awrd', '/festival-central/?ref_=nv_ev_fc', 'https://www.imdb.com/event/all/?ref_=nv_ev_all', '/feature/bornondate/?ref_=nv_cel_brn', 'https://m.imdb.com/chart/starmeter/?ref_=nv_cel_brn', 'https://www.imdb.com/search/name/?gender=male%2Cfemale&ref_=nv_cel_m', '/news/celebrity/?ref_=nv_cel_nw', 'https://help.imdb.com/imdb?ref_=cons_nb_hlp', 'https://contribute.imdb.com/czone?ref_=nv_cm_cz', '/poll/?ref_=nv_cm_pl', 'https://pro.imdb.com?ref_=cons_nb_hm&rf=cons_nb_hm', '/?ref_=nv_home', None, None, None, None, None, None, 'https://www.imdb.com/search/', 'https://pro.imdb.com/login/ap?u=/login/lwa&imdbPageAction=signUp&rf=cons_nb_hm&ref_=cons_nb_hm', '/list/watchlist?ref_=nv_usr_wl_all_0', '/registration/signin?ref=nv_generic_lgin', None, 'https://help.imdb.com/article/imdb/general-information/can-i-use-imdb-data-in-my-software/G5JTRESSHJBBHTGX', 'http://www.imdb.com/Copyright', 'https://datasets.imdbws.com/', '#', 'https://slyb.app.link/SKdyQ6A449', 'https://facebook.com/imdb', 'https://instagram.com/imdb', 'https://twitch.tv/IMDb', 'https://twitter.com/imdb', 'https://youtube.com/imdb/', 'https://slyb.app.link/SKdyQ6A449', '?mode=desktop&ref_=m_ft_dsk', 'https://help.imdb.com/imdb', 'https://help.imdb.com/article/imdb/general-information/imdb-site-index/GNCX7BHNSPBTFALQ#so', 'https://pro.imdb.com?ref_=ft_pro&rf=cons_tf_pro', 'https://www.boxofficemojo.com', 'https://developer.imdb.com/', 'https://www.imdb.com/pressroom/?ref_=ft_pr', 'https://advertising.amazon.com/resources/ad-specs/imdb/', 'https://www.amazon.jobs/en/teams/imdb', '/conditions?ref_=ft_cou', '/privacy?ref_=ft_pvc', 'https://www.amazon.com/b/?&node=5160028011']\n"
     ]
    }
   ],
   "source": [
    "print(urls)"
   ]
  },
  {
   "cell_type": "code",
   "execution_count": 51,
   "metadata": {},
   "outputs": [
    {
     "name": "stdout",
     "output_type": "stream",
     "text": [
      "https://datasets.imdbws.com/\n",
      "https://datasets.imdbws.com/name.basics.tsv.gz\n",
      "https://datasets.imdbws.com/title.akas.tsv.gz\n",
      "https://datasets.imdbws.com/title.basics.tsv.gz\n",
      "https://datasets.imdbws.com/title.crew.tsv.gz\n",
      "https://datasets.imdbws.com/title.episode.tsv.gz\n",
      "https://datasets.imdbws.com/title.principals.tsv.gz\n",
      "https://datasets.imdbws.com/title.ratings.tsv.gz\n",
      "['https://datasets.imdbws.com/name.basics.tsv.gz', 'https://datasets.imdbws.com/title.akas.tsv.gz', 'https://datasets.imdbws.com/title.basics.tsv.gz', 'https://datasets.imdbws.com/title.crew.tsv.gz', 'https://datasets.imdbws.com/title.episode.tsv.gz', 'https://datasets.imdbws.com/title.principals.tsv.gz', 'https://datasets.imdbws.com/title.ratings.tsv.gz']\n"
     ]
    }
   ],
   "source": [
    "redirect_url = urls[-21]\n",
    "print(redirect_url)\n",
    "html = urllib.request.urlopen(redirect_url)\n",
    "soup = BeautifulSoup(html.read(), 'lxml')\n",
    "links = []\n",
    "for link in soup.find_all('a')[1:]:\n",
    "    links.append(link.get('href'))\n",
    "    print(link[\"href\"])\n",
    "print(links)"
   ]
  },
  {
   "cell_type": "code",
   "execution_count": null,
   "metadata": {},
   "outputs": [],
   "source": [
    "ratings_url = links\n",
    "path = 'C:/Users/klagadap/DataScience_2019501003-master/Data Analytics and Visualization/Task - 1/IMDB Data/'\n",
    "\n",
    "for each in links:\n",
    "    rand = each.split('/')[-1].split('.')[0:2]\n",
    "    file_name = '_'.join(rand)\n",
    "    temp_path = path + file_name + '.tsv'\n",
    "    response = urllib.request.urlopen(each)\n",
    "    compressed_file = io.BytesIO(response.read())\n",
    "    decompressed_file = gzip.GzipFile(fileobj = compressed_file)\n",
    "    with open(temp_path,\"wb\") as fd:\n",
    "        fd.write(decompressed_file.read())"
   ]
  },
  {
   "cell_type": "code",
   "execution_count": null,
   "metadata": {},
   "outputs": [],
   "source": []
  },
  {
   "cell_type": "code",
   "execution_count": null,
   "metadata": {},
   "outputs": [],
   "source": []
  }
 ],
 "metadata": {
  "kernelspec": {
   "display_name": "Python 3",
   "language": "python",
   "name": "python3"
  },
  "language_info": {
   "codemirror_mode": {
    "name": "ipython",
    "version": 3
   },
   "file_extension": ".py",
   "mimetype": "text/x-python",
   "name": "python",
   "nbconvert_exporter": "python",
   "pygments_lexer": "ipython3",
   "version": "3.8.8"
  }
 },
 "nbformat": 4,
 "nbformat_minor": 4
}
